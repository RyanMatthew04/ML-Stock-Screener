{
 "cells": [
  {
   "cell_type": "code",
   "execution_count": null,
   "metadata": {
    "execution": {
     "iopub.execute_input": "2025-03-27T09:42:21.648656Z",
     "iopub.status.busy": "2025-03-27T09:42:21.648256Z",
     "iopub.status.idle": "2025-03-27T09:42:23.324227Z",
     "shell.execute_reply": "2025-03-27T09:42:23.323248Z",
     "shell.execute_reply.started": "2025-03-27T09:42:21.648625Z"
    },
    "trusted": true
   },
   "outputs": [],
   "source": [
    "import os\n",
    "import cv2\n",
    "import numpy as np\n",
    "import pandas as pd\n",
    "from sklearn.svm import SVC\n",
    "from sklearn.decomposition import PCA\n",
    "from sklearn.metrics import classification_report, fbeta_score\n",
    "from sklearn.model_selection import StratifiedKFold\n",
    "from sklearn.preprocessing import LabelEncoder\n",
    "import warnings\n",
    "\n",
    "warnings.filterwarnings(\"ignore\")\n",
    "\n",
    "def load_image(path, label, image_size=(224, 224)):\n",
    "    try:\n",
    "        img = cv2.imread(path)\n",
    "        img = cv2.cvtColor(img, cv2.COLOR_BGR2RGB)\n",
    "        img = cv2.resize(img, image_size)\n",
    "        img = img.astype(np.float32) / 255.0\n",
    "        return img.flatten(), label\n",
    "    except Exception as e:\n",
    "        print(f\"Error loading image {path}: {e}\")\n",
    "        return None\n",
    "\n",
    "def load_dataset(folders, image_size=(224, 224)):\n",
    "    image_paths, labels = [], []\n",
    "\n",
    "    for folder in folders:\n",
    "        label = os.path.basename(folder)\n",
    "        for filename in os.listdir(folder):\n",
    "            if filename.lower().endswith(('.jpg', '.jpeg', '.png')):\n",
    "                image_paths.append(os.path.join(folder, filename))\n",
    "                labels.append(label)\n",
    "\n",
    "    images, labels_final = [], []\n",
    "\n",
    "    for path, label in zip(image_paths, labels):\n",
    "        result = load_image(path, label, image_size)\n",
    "        if result is not None:\n",
    "            img, lbl = result\n",
    "            images.append(img)\n",
    "            labels_final.append(lbl)\n",
    "\n",
    "    X = np.array(images, dtype=np.float32)\n",
    "    label_encoder = LabelEncoder()\n",
    "    y = label_encoder.fit_transform(labels_final)\n",
    "\n",
    "    class_names = label_encoder.classes_.tolist()\n",
    "\n",
    "    return X, y, class_names\n",
    "\n",
    "def cross_val_with_pca(X, y, param_grid, n_splits=5):\n",
    "    skf = StratifiedKFold(n_splits=n_splits, shuffle=True, random_state=42)\n",
    "\n",
    "    best_score = 0\n",
    "    best_params = None\n",
    "\n",
    "    for C in param_grid['C']:\n",
    "        for kernel in param_grid['kernel']:\n",
    "            for degree in param_grid['degree']:\n",
    "                for gamma in param_grid['gamma']:\n",
    "                    \n",
    "                    current_params = {'C': C, 'kernel': kernel, 'degree': degree, 'gamma': gamma}\n",
    "                    fold_fbeta = []\n",
    "\n",
    "                    for train_idx, val_idx in skf.split(X, y):\n",
    "\n",
    "                        X_train, X_val = X[train_idx], X[val_idx]\n",
    "                        y_train, y_val = y[train_idx], y[val_idx]\n",
    "\n",
    "                        pca = PCA()\n",
    "                        X_train_pca = pca.fit_transform(X_train)\n",
    "\n",
    "                        X_val_pca = pca.transform(X_val)\n",
    "\n",
    "                        model = SVC(**current_params)\n",
    "                        model.fit(X_train_pca, y_train)\n",
    "\n",
    "                        y_pred = model.predict(X_val_pca)\n",
    "                        fbeta = fbeta_score(y_val, y_pred, beta=0.5)\n",
    "                        fold_fbeta.append(fbeta)\n",
    "\n",
    "                    mean_fbeta = np.mean(fold_fbeta)\n",
    "\n",
    "                    if mean_fbeta > best_score:\n",
    "                        best_score = mean_fbeta\n",
    "                        best_params = current_params.copy()\n",
    "\n",
    "    return best_params, best_score\n",
    "\n"
   ]
  },
  {
   "cell_type": "code",
   "execution_count": null,
   "metadata": {
    "execution": {
     "iopub.execute_input": "2025-03-27T09:42:34.778153Z",
     "iopub.status.busy": "2025-03-27T09:42:34.777547Z",
     "iopub.status.idle": "2025-03-27T10:44:01.416963Z",
     "shell.execute_reply": "2025-03-27T10:44:01.415866Z",
     "shell.execute_reply.started": "2025-03-27T09:42:34.778109Z"
    },
    "trusted": true
   },
   "outputs": [
    {
     "name": "stdout",
     "output_type": "stream",
     "text": [
      "\n",
      "Best Parameters: {'C': 1, 'kernel': 'poly', 'degree': 1, 'gamma': 'auto'}\n",
      "\n",
      "Best F(0.5) Score: 0.962153738927473\n"
     ]
    }
   ],
   "source": [
    "\n",
    "folders = [\n",
    "    \"/kaggle/input/reversal2/bearish/bearish\",\n",
    "    \"/kaggle/input/reversal2/bullish/bullish\",\n",
    "]\n",
    "\n",
    "X, y, class_names = load_dataset(folders, image_size=(224, 224))\n",
    "\n",
    "param_grid =  {\n",
    "    'C': [1 , 2, 5],\n",
    "    'kernel': ['poly','rbf'],\n",
    "    'degree': [1,2,3],\n",
    "    'gamma': ['scale', 'auto', 0.01]\n",
    "}\n",
    "\n",
    "best_params, best_score = cross_val_with_pca(X, y, param_grid, n_splits=5)\n",
    "print(f\"\\nBest Parameters: {best_params}\")\n",
    "print(f\"\\nBest F(0.5) Score: {best_score}\")"
   ]
  },
  {
   "cell_type": "code",
   "execution_count": null,
   "metadata": {
    "execution": {
     "iopub.execute_input": "2025-03-27T11:00:13.633062Z",
     "iopub.status.busy": "2025-03-27T11:00:13.632692Z",
     "iopub.status.idle": "2025-03-27T11:00:44.472401Z",
     "shell.execute_reply": "2025-03-27T11:00:44.471063Z",
     "shell.execute_reply.started": "2025-03-27T11:00:13.633034Z"
    },
    "trusted": true
   },
   "outputs": [
    {
     "name": "stdout",
     "output_type": "stream",
     "text": [
      "✅ Model saved as svm_final.pkl\n",
      "✅ PCA saved as pca_svm.pkl (Compressed)\n"
     ]
    }
   ],
   "source": [
    "import joblib\n",
    "import numpy as np\n",
    "from sklearn.svm import SVC\n",
    "from sklearn.decomposition import PCA\n",
    "\n",
    "def train_final_model(X, y, best_params, model_filename=\"svm_final.pkl\", pca_filename=\"pca_svm.pkl\"):\n",
    " \n",
    "    pca = PCA()\n",
    "    X_pca = pca.fit_transform(X)\n",
    "\n",
    "    pca.components_ = pca.components_.astype(np.float32)\n",
    "\n",
    "    model = SVC(**best_params, probability=True)\n",
    "    model.fit(X_pca, y)\n",
    "\n",
    "    joblib.dump(model, model_filename, compress=3) \n",
    "    joblib.dump(pca, pca_filename, compress=3)     \n",
    "\n",
    "    print(f\"✅ Model saved as {model_filename}\")\n",
    "    print(f\"✅ PCA saved as {pca_filename} (Compressed)\")\n",
    "\n",
    "    return model, pca\n",
    "\n",
    "\n",
    "model_filename = \"svm_final.pkl\"\n",
    "pca_filename = \"pca_svm.pkl\"\n",
    "\n",
    "final_model, pca = train_final_model(X, y, best_params, model_filename, pca_filename)"
   ]
  },
  {
   "cell_type": "code",
   "execution_count": null,
   "metadata": {},
   "outputs": [],
   "source": []
  }
 ],
 "metadata": {
  "kaggle": {
   "accelerator": "none",
   "dataSources": [
    {
     "datasetId": 6975922,
     "sourceId": 11176821,
     "sourceType": "datasetVersion"
    }
   ],
   "dockerImageVersionId": 30919,
   "isGpuEnabled": false,
   "isInternetEnabled": true,
   "language": "python",
   "sourceType": "notebook"
  },
  "kernelspec": {
   "display_name": "ml_screener",
   "language": "python",
   "name": "python3"
  },
  "language_info": {
   "codemirror_mode": {
    "name": "ipython",
    "version": 3
   },
   "file_extension": ".py",
   "mimetype": "text/x-python",
   "name": "python",
   "nbconvert_exporter": "python",
   "pygments_lexer": "ipython3",
   "version": "3.9.21"
  }
 },
 "nbformat": 4,
 "nbformat_minor": 4
}
